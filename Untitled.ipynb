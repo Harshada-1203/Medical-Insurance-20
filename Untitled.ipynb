{
 "cells": [
  {
   "cell_type": "markdown",
   "id": "80243582-f736-48d0-8633-17bd059f4f45",
   "metadata": {},
   "source": [
    "#### Python web framework"
   ]
  },
  {
   "cell_type": "code",
   "execution_count": null,
   "id": "b1d8bd15-6bcb-4755-8abd-9056cb46e0a0",
   "metadata": {},
   "outputs": [],
   "source": [
    "API :  Application Programming Interface"
   ]
  },
  {
   "cell_type": "code",
   "execution_count": null,
   "id": "2a9673c6-c4a0-4837-866d-d2462e3101df",
   "metadata": {},
   "outputs": [],
   "source": [
    "Web Frameworks\n",
    "1) Django\n",
    "2) Fast API\n",
    "3) Flask"
   ]
  },
  {
   "cell_type": "markdown",
   "id": "58e54e6b-35f7-45e2-8790-bff47b724547",
   "metadata": {},
   "source": [
    "#### Flask"
   ]
  },
  {
   "cell_type": "code",
   "execution_count": null,
   "id": "2637a0f5-1adb-47b6-a020-f6b452792752",
   "metadata": {},
   "outputs": [],
   "source": [
    "1) Lightweight micro web frameworks\n",
    "2) It supports jinja2 templates to write html code\n",
    "3) Flexible : Integration is very easy with python functions, database etc\n",
    "4) Scalable : small to large project can handle\n",
    "\n",
    "\n",
    "- To test api : Postman "
   ]
  },
  {
   "cell_type": "code",
   "execution_count": null,
   "id": "a0b03b61-7c52-42a0-b67c-9b77543dd6d7",
   "metadata": {},
   "outputs": [],
   "source": [
    "pip install Flask\n",
    "conda install Flask"
   ]
  }
 ],
 "metadata": {
  "kernelspec": {
   "display_name": "Python 3 (ipykernel)",
   "language": "python",
   "name": "python3"
  },
  "language_info": {
   "codemirror_mode": {
    "name": "ipython",
    "version": 3
   },
   "file_extension": ".py",
   "mimetype": "text/x-python",
   "name": "python",
   "nbconvert_exporter": "python",
   "pygments_lexer": "ipython3",
   "version": "3.9.7"
  }
 },
 "nbformat": 4,
 "nbformat_minor": 5
}
